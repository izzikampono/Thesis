{
 "cells": [
  {
   "cell_type": "code",
   "execution_count": 1,
   "metadata": {},
   "outputs": [],
   "source": [
    "import numpy as np\n",
    "import pandas as pd\n",
    "import matplotlib.pyplot as plt\n",
    "from decpomdp import DecPOMDP\n",
    "import time\n",
    "import os\n",
    "from constant import Constants"
   ]
  },
  {
   "cell_type": "code",
   "execution_count": 2,
   "metadata": {},
   "outputs": [],
   "source": [
    "file_name = \"dectiger\"\n",
    "planning_horizon = 1\n",
    "num_iterations = 1\n",
    "sota_ = False\n",
    "game_type = \"zerosum\"\n",
    "games = [\"cooperative\",\"zerosum\",\"stackelberg\"]\n"
   ]
  },
  {
   "cell_type": "code",
   "execution_count": 3,
   "metadata": {},
   "outputs": [
    {
     "name": "stdout",
     "output_type": "stream",
     "text": [
      "game size :\n",
      "\t|S| = 2\n",
      "\t|Z| = 4\n",
      "\t|U| = 9 with |U_i| = 3\n",
      "intiial_belief : [['listen', 'open-left', 'open-right'], ['listen', 'open-left', 'open-right']]\n"
     ]
    }
   ],
   "source": [
    "problem = DecPOMDP(file_name,horizon=planning_horizon)\n",
    "constant = Constants.initialize(problem)\n",
    "import Classes\n",
    "\n",
    "print(f\"game size :\\n\\t|S| = {len(problem.states)}\")\n",
    "print(f\"\\t|Z| = {problem.num_joint_observations}\\n\\t|U| = {problem.num_joint_actions} with |U_i| = {problem.num_actions[0]}\")\n",
    "print(f\"intiial_belief : {problem.actions}\")\n",
    "\n",
    "\n"
   ]
  },
  {
   "cell_type": "code",
   "execution_count": 4,
   "metadata": {},
   "outputs": [
    {
     "name": "stdout",
     "output_type": "stream",
     "text": [
      "REWARD MATRIX OF ZEROSUM dectiger GAME\n",
      "\n",
      "Leader :\n",
      "   tiger-left  tiger-right\n",
      "0        -2.0         -2.0\n",
      "1      -101.0          9.0\n",
      "2         9.0       -101.0\n",
      "3      -101.0          9.0\n",
      "4       -50.0         20.0\n",
      "5      -100.0       -100.0\n",
      "6         9.0       -101.0\n",
      "7      -100.0       -100.0\n",
      "8        20.0        -50.0\n",
      "\n",
      "\n",
      "Follower :\n",
      "   tiger-left  tiger-right\n",
      "0         2.0          2.0\n",
      "1       101.0         -9.0\n",
      "2        -9.0        101.0\n",
      "3       101.0         -9.0\n",
      "4        50.0        -20.0\n",
      "5       100.0        100.0\n",
      "6        -9.0        101.0\n",
      "7       100.0        100.0\n",
      "8       -20.0         50.0\n"
     ]
    }
   ],
   "source": [
    "print(f\"REWARD MATRIX OF ZEROSUM {problem.name} GAME\")\n",
    "print(\"\\nLeader :\")\n",
    "print(f\"{pd.DataFrame(problem.reward_fn_sa,columns=problem.states)}\\n\")\n",
    "print(\"\\nFollower :\")\n",
    "print(f\"{pd.DataFrame(Constants.get_instance().REWARDS['zerosum'][1],columns=problem.states)}\")\n",
    "\n"
   ]
  },
  {
   "cell_type": "code",
   "execution_count": 5,
   "metadata": {},
   "outputs": [
    {
     "name": "stdout",
     "output_type": "stream",
     "text": [
      "\tbelief expansion done, belief space size = 5\n",
      "\n",
      "size of belief space = 5\n",
      "\tbackup at timestep 1 done\n",
      "\tbackup at timestep 0 done\n",
      "\n",
      "\n",
      "value function : \n",
      "value at 0, agent = 0, values: {0: -138.0} ,  agent = 1, values: {0: 138.0}\n",
      "value at 1, agent = 0, values: {0: -46.00000000000001, 1: -64.57636419210306, 2: -64.57636419210306} ,  agent = 1, values: {0: 46.00000000000001, 1: 64.57636419210306, 2: 64.57636419210306}\n"
     ]
    }
   ],
   "source": [
    "game = Classes.PBVI(problem=problem,horizon=planning_horizon,density=0.0000001,gametype=game_type,limit=100,sota=sota_)\n",
    "value_function = game.point_based_solve()\n",
    "\n",
    "\n"
   ]
  },
  {
   "cell_type": "code",
   "execution_count": 6,
   "metadata": {},
   "outputs": [
    {
     "name": "stdout",
     "output_type": "stream",
     "text": [
      "\tbelief expansion done, belief space size = 5\n",
      "\n",
      "size of belief space = 5\n",
      "\tbackup at timestep 1 done\n",
      "\tbackup at timestep 0 done\n",
      "\n",
      "\n",
      "value function : \n",
      "value at 0, agent = 0, values: {0: -138.0} ,  agent = 1, values: {0: 0}\n",
      "value at 1, agent = 0, values: {0: -46.0, 1: -64.57636419210306, 2: -64.57636419210306} ,  agent = 1, values: {0: 0, 1: 0, 2: 0}\n"
     ]
    }
   ],
   "source": [
    "game = Classes.PBVI(problem=problem,horizon=planning_horizon,density=0.0001,gametype=game_type,limit=100,sota=not sota_)\n",
    "value_function = game.point_based_solve()\n",
    "\n",
    "# value_function.point_value_fn"
   ]
  }
 ],
 "metadata": {
  "kernelspec": {
   "display_name": "tensorflow",
   "language": "python",
   "name": "python3"
  },
  "language_info": {
   "codemirror_mode": {
    "name": "ipython",
    "version": 3
   },
   "file_extension": ".py",
   "mimetype": "text/x-python",
   "name": "python",
   "nbconvert_exporter": "python",
   "pygments_lexer": "ipython3",
   "version": "3.10.8"
  }
 },
 "nbformat": 4,
 "nbformat_minor": 2
}
