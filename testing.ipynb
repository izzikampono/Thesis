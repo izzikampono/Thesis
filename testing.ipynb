{
 "cells": [
  {
   "cell_type": "code",
   "execution_count": 1,
   "metadata": {},
   "outputs": [],
   "source": [
    "import numpy as np\n",
    "import pandas as pd\n",
    "import matplotlib.pyplot as plt\n",
    "from decpomdp import DecPOMDP\n",
    "import time\n",
    "import os\n",
    "from constant import Constants"
   ]
  },
  {
   "cell_type": "code",
   "execution_count": 2,
   "metadata": {},
   "outputs": [],
   "source": [
    "file_name = \"dectiger\"\n",
    "planning_horizon = 2\n",
    "num_iterations = 1\n",
    "sota_ = False\n",
    "game_type = \"cooperative\"\n",
    "games = [\"cooperative\",\"zerosum\",\"stackelberg\"]\n"
   ]
  },
  {
   "cell_type": "code",
   "execution_count": 3,
   "metadata": {},
   "outputs": [
    {
     "name": "stdout",
     "output_type": "stream",
     "text": [
      "game size :\n",
      "\t|S| = 2\n",
      "\t|Z| = 4\n",
      "\t|U| = 9 with |U_i| = 3\n",
      "intiial_belief : [['listen', 'open-left', 'open-right'], ['listen', 'open-left', 'open-right']]\n"
     ]
    }
   ],
   "source": [
    "problem = DecPOMDP(file_name,horizon=planning_horizon)\n",
    "constant = Constants.initialize(problem)\n",
    "import Classes\n",
    "\n",
    "print(f\"game size :\\n\\t|S| = {len(problem.states)}\")\n",
    "print(f\"\\t|Z| = {problem.num_joint_observations}\\n\\t|U| = {problem.num_joint_actions} with |U_i| = {problem.num_actions[0]}\")\n",
    "print(f\"intiial_belief : {problem.actions}\")\n",
    "\n",
    "\n"
   ]
  },
  {
   "cell_type": "code",
   "execution_count": 4,
   "metadata": {},
   "outputs": [
    {
     "name": "stdout",
     "output_type": "stream",
     "text": [
      "REWARD MATRIX OF ZEROSUM dectiger GAME\n",
      "\n",
      "Leader :\n",
      "   tiger-left  tiger-right\n",
      "0        -2.0         -2.0\n",
      "1      -101.0          9.0\n",
      "2         9.0       -101.0\n",
      "3      -101.0          9.0\n",
      "4       -50.0         20.0\n",
      "5      -100.0       -100.0\n",
      "6         9.0       -101.0\n",
      "7      -100.0       -100.0\n",
      "8        20.0        -50.0\n",
      "\n",
      "\n",
      "Follower :\n",
      "   tiger-left  tiger-right\n",
      "0         2.0          2.0\n",
      "1       101.0         -9.0\n",
      "2        -9.0        101.0\n",
      "3       101.0         -9.0\n",
      "4        50.0        -20.0\n",
      "5       100.0        100.0\n",
      "6        -9.0        101.0\n",
      "7       100.0        100.0\n",
      "8       -20.0         50.0\n"
     ]
    }
   ],
   "source": [
    "print(f\"REWARD MATRIX OF ZEROSUM {problem.name} GAME\")\n",
    "print(\"\\nLeader :\")\n",
    "print(f\"{pd.DataFrame(problem.reward_fn_sa,columns=problem.states)}\\n\")\n",
    "print(\"\\nFollower :\")\n",
    "print(f\"{pd.DataFrame(Constants.get_instance().REWARDS['zerosum'][1],columns=problem.states)}\")\n",
    "\n"
   ]
  },
  {
   "cell_type": "code",
   "execution_count": 5,
   "metadata": {},
   "outputs": [
    {
     "name": "stdout",
     "output_type": "stream",
     "text": [
      "\tbelief expansion done, belief space size = 7\n",
      "\n",
      "========== backup at timestep 2 ========== \n",
      "Game cooperative  ::  max plane LP value: 9.0, tabular LP value : (9.0, 9.0)  --  Reconstructed Max plane alpha: (9.0, 9.0), reconstructed tabular alpha : (9.0, 9.0)  --  belief [0.5 0.5]  -- DR {0: array([0., 0., 1., 0., 0., 0., 0., 0., 0.]), 1: array([0., 1., 0., 0., 0., 0., 0., 0., 0.])}\n",
      "Game cooperative  ::  max plane LP value: 17.88590604026846, tabular LP value : (17.88590604026846, 17.88590604026846)  --  Reconstructed Max plane alpha: (17.88590604026846, 17.88590604026846), reconstructed tabular alpha : (17.88590604026846, 17.88590604026846)  --  belief [0.96979866 0.03020134]  -- DR {0: array([0., 0., 0., 0., 0., 0., 0., 0., 1.]), 1: array([0., 0., 0., 0., 0., 0., 0., 0., 1.])}\n",
      "Game cooperative  ::  max plane LP value: 17.88590604026846, tabular LP value : (17.88590604026846, 17.88590604026846)  --  Reconstructed Max plane alpha: (17.88590604026846, 17.88590604026846), reconstructed tabular alpha : (17.88590604026846, 17.88590604026846)  --  belief [0.03020134 0.96979866]  -- DR {0: array([0., 0., 0., 0., 1., 0., 0., 0., 0.]), 1: array([0., 0., 0., 0., 1., 0., 0., 0., 0.])}\n",
      "Game cooperative  ::  max plane LP value: 19.932178656013015, tabular LP value : (19.932178656013015, 19.932178656013015)  --  Reconstructed Max plane alpha: (19.932178656013015, 19.932178656013015), reconstructed tabular alpha : (19.932178656013015, 19.932178656013015)  --  belief [9.99031124e-01 9.68876343e-04]  -- DR {0: array([0., 0., 0., 0., 0., 0., 0., 0., 1.]), 1: array([0., 0., 0., 0., 0., 0., 0., 0., 1.])}\n",
      "Game cooperative  ::  max plane LP value: 19.932178656013015, tabular LP value : (19.932178656013015, 19.932178656013015)  --  Reconstructed Max plane alpha: (19.932178656013015, 19.932178656013015), reconstructed tabular alpha : (19.932178656013015, 19.932178656013015)  --  belief [9.68876343e-04 9.99031124e-01]  -- DR {0: array([0., 0., 0., 0., 1., 0., 0., 0., 0.]), 1: array([0., 0., 0., 0., 1., 0., 0., 0., 0.])}\n",
      "\n",
      "=========== backup for belief id 0 ============ \n",
      "\n",
      "=========== backup for belief id 1 ============ \n",
      "\n",
      "=========== backup for belief id 2 ============ \n",
      "\n",
      "=========== backup for belief id 3 ============ \n",
      "\n",
      "=========== backup for belief id 4 ============ \n",
      "========== backup at timestep 1 ========== \n",
      "Game cooperative  ::  max plane LP value: 18.0, tabular LP value : (18.0, 18.0)  --  Reconstructed Max plane alpha: (18.0, 18.0), reconstructed tabular alpha : (18.0, 18.0)  --  belief [0.5 0.5]  -- DR {0: array([0., 0., 1., 0., 0., 0., 0., 0., 0.]), 1: array([0., 1., 0., 0., 0., 0., 0., 0., 0.])}\n",
      "Game cooperative  ::  max plane LP value: 26.88590604026846, tabular LP value : (26.88590604026846, 26.88590604026846)  --  Reconstructed Max plane alpha: (26.88590604026846, 26.88590604026846), reconstructed tabular alpha : (26.88590604026846, 26.88590604026846)  --  belief [0.96979866 0.03020134]  -- DR {0: array([0., 0., 0., 0., 0., 0., 0., 0., 1.]), 1: array([0., 0., 0., 0., 0., 0., 0., 0., 1.])}\n",
      "Game cooperative  ::  max plane LP value: 26.88590604026846, tabular LP value : (26.88590604026846, 26.88590604026846)  --  Reconstructed Max plane alpha: (26.88590604026846, 26.88590604026846), reconstructed tabular alpha : (26.88590604026846, 26.88590604026846)  --  belief [0.03020134 0.96979866]  -- DR {0: array([0., 0., 0., 0., 1., 0., 0., 0., 0.]), 1: array([0., 0., 0., 0., 1., 0., 0., 0., 0.])}\n",
      "\n",
      "=========== backup for belief id 0 ============ \n",
      "\n",
      "=========== backup for belief id 1 ============ \n",
      "\n",
      "=========== backup for belief id 2 ============ \n",
      "========== backup at timestep 0 ========== \n",
      "Game cooperative  ::  max plane LP value: 27.0, tabular LP value : (27.0, 27.0)  --  Reconstructed Max plane alpha: (27.0, 27.0), reconstructed tabular alpha : (27.0, 27.0)  --  belief [0.5 0.5]  -- DR {0: array([0., 0., 1., 0., 0., 0., 0., 0., 0.]), 1: array([0., 1., 0., 0., 0., 0., 0., 0., 0.])}\n",
      "\n",
      "=========== backup for belief id 0 ============ \n",
      "\n",
      "\n",
      "\n",
      "\n",
      "\n",
      "=========================================================== END ======================================================================\n",
      "\n",
      "point value at initial belief  (27.0, 27.0)\n",
      "alphavectors value at inital belief (V0,V1) : (27.0, 27.0)\n",
      "\n",
      "\n"
     ]
    }
   ],
   "source": [
    "game = Classes.PBVI(problem=problem,horizon=planning_horizon,density=0.0000001,gametype=game_type,limit=100,sota=sota_)\n",
    "value_function = game.solve(1,0.1)\n",
    "\n",
    "\n"
   ]
  },
  {
   "cell_type": "markdown",
   "metadata": {},
   "source": []
  }
 ],
 "metadata": {
  "kernelspec": {
   "display_name": "tensorflow",
   "language": "python",
   "name": "python3"
  },
  "language_info": {
   "codemirror_mode": {
    "name": "ipython",
    "version": 3
   },
   "file_extension": ".py",
   "mimetype": "text/x-python",
   "name": "python",
   "nbconvert_exporter": "python",
   "pygments_lexer": "ipython3",
   "version": "3.10.8"
  }
 },
 "nbformat": 4,
 "nbformat_minor": 2
}
