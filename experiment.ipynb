{
 "cells": [
  {
   "cell_type": "code",
   "execution_count": 1,
   "metadata": {},
   "outputs": [],
   "source": [
    "import numpy as np\n",
    "import pandas as pd\n",
    "import matplotlib.pyplot as plt\n",
    "from decpomdp import DecPOMDP\n",
    "import Classes\n",
    "from constant import Constants\n",
    "import time\n",
    "import os\n",
    "\n"
   ]
  },
  {
   "cell_type": "code",
   "execution_count": 2,
   "metadata": {},
   "outputs": [],
   "source": [
    "file_name = \"relay4\"\n",
    "game_type = \"stackelberg\"\n",
    "planning_horizon = 5\n",
    "num_iterations = 5\n",
    "sota_ = False\n"
   ]
  },
  {
   "cell_type": "code",
   "execution_count": 3,
   "metadata": {},
   "outputs": [
    {
     "name": "stdout",
     "output_type": "stream",
     "text": [
      "problem set to relay4\n",
      "game of type stackelberg initiated with SOTA set to = False with horizon 5\n",
      "game size :\n",
      "\t|S| = 4\n",
      "\t|Z| = 9\n",
      "\t|U| = 9\n",
      "intiial_belief : [0. 0. 0. 1.]\n",
      "3,3\n"
     ]
    }
   ],
   "source": [
    "#import problem\n",
    "problem = DecPOMDP(file_name, 1,horizon=planning_horizon)\n",
    "# constant = Constants(problem)\n",
    "# utilities = Utilities(constant)\n",
    "Classes.set_problem(problem)\n",
    "\n",
    "print(f\"game of type {game_type} initiated with SOTA set to = {sota_} with horizon {planning_horizon}\")\n",
    "print(f\"game size :\\n\\t|S| = {len(problem.states)}\\n\\t|Z| = {problem.num_joint_observations}\\n\\t|U| = {problem.num_joint_actions}\")\n",
    "print(f\"intiial_belief : {problem.b0}\")\n",
    "\n",
    "\n",
    "print(f\"{problem.num_actions[0]},{problem.num_actions[0]}\")"
   ]
  },
  {
   "cell_type": "code",
   "execution_count": 4,
   "metadata": {},
   "outputs": [
    {
     "data": {
      "text/plain": [
       "array([[0., 0., 0., 0., 0., 0., 0., 0., 1.],\n",
       "       [0., 0., 0., 0., 0., 0., 0., 0., 1.],\n",
       "       [0., 0., 0., 0., 0., 0., 0., 0., 1.],\n",
       "       [0., 0., 0., 0., 0., 0., 0., 0., 1.]])"
      ]
     },
     "execution_count": 4,
     "metadata": {},
     "output_type": "execute_result"
    }
   ],
   "source": [
    "problem.observation_fn[3]"
   ]
  },
  {
   "cell_type": "code",
   "execution_count": 5,
   "metadata": {},
   "outputs": [],
   "source": [
    "# solve\n",
    "def SOLVE(game):\n",
    "    start_time = time.time()\n",
    "    policy = game.solve(num_iterations,0.9)\n",
    "    end_time = time.time()\n",
    "    solve_time = end_time - start_time\n",
    "    value_fn = game.value_function\n",
    "    return policy,solve_time,value_fn"
   ]
  },
  {
   "cell_type": "code",
   "execution_count": 6,
   "metadata": {},
   "outputs": [],
   "source": [
    "def initialize_database():\n",
    "    database = {\"gametype\":[],\n",
    "                \"SOTA\" : [],\n",
    "                \"horizon\": [],\n",
    "                    \"num_iterations\" : [],\n",
    "                    \"average_time\" : [],\n",
    "                    \"number_of_beliefs\" : [],\n",
    "                    \"leader_value_b0\":[],\n",
    "                    \"follower_value_b0\":[]\n",
    "                    # \"density\" = []\n",
    "                    # \"gap\":[]\n",
    "                   \n",
    "                    }\n",
    "    return database\n",
    "\n",
    "def add_to_database(database,horizon,game_type,num_iterations,average_time,num_beliefs,V0_B0,V1_B0,SOTA):\n",
    "    database[\"gametype\"].append(game_type)\n",
    "    database[\"horizon\"].append(horizon)\n",
    "    database[\"SOTA\"].append(SOTA)\n",
    "    database[\"num_iterations\"].append(num_iterations)\n",
    "    database[\"average_time\"].append(average_time)\n",
    "    database[\"number_of_beliefs\"].append(num_beliefs)\n",
    "    database[\"leader_value_b0\"].append(V0_B0)\n",
    "    database[\"follower_value_b0\"].append(V1_B0)\n",
    "    # database[\"gap\"].append(abs(V0_B0-V1_B0))\n",
    "    # database[\"density\"].append(density)\n",
    "    return\n"
   ]
  },
  {
   "cell_type": "code",
   "execution_count": 7,
   "metadata": {},
   "outputs": [
    {
     "name": "stderr",
     "output_type": "stream",
     "text": [
      "/Users/izzikampono/Documents/GitHub/Thesis/utilities.py:81: RuntimeWarning: invalid value encountered in divide\n",
      "  vector = np.array(vector) / np.sum(vector)\n"
     ]
    },
    {
     "ename": "TypeError",
     "evalue": "'<=' not supported between instances of 'NoneType' and 'float'",
     "output_type": "error",
     "traceback": [
      "\u001b[0;31m---------------------------------------------------------------------------\u001b[0m",
      "\u001b[0;31mTypeError\u001b[0m                                 Traceback (most recent call last)",
      "Cell \u001b[0;32mIn[7], line 5\u001b[0m\n\u001b[1;32m      3\u001b[0m \u001b[38;5;28;01mfor\u001b[39;00m horizon \u001b[38;5;129;01min\u001b[39;00m \u001b[38;5;28mrange\u001b[39m(\u001b[38;5;241m1\u001b[39m,planning_horizon\u001b[38;5;241m+\u001b[39m\u001b[38;5;241m1\u001b[39m):\n\u001b[1;32m      4\u001b[0m     game \u001b[38;5;241m=\u001b[39m Classes\u001b[38;5;241m.\u001b[39mPBVI(problem\u001b[38;5;241m=\u001b[39mproblem,horizon\u001b[38;5;241m=\u001b[39mhorizon,density\u001b[38;5;241m=\u001b[39m\u001b[38;5;241m0.1\u001b[39m,gametype\u001b[38;5;241m=\u001b[39mgame_type,sota\u001b[38;5;241m=\u001b[39msota_)\n\u001b[0;32m----> 5\u001b[0m     policy, time_ , value_fn \u001b[38;5;241m=\u001b[39m \u001b[43mSOLVE\u001b[49m\u001b[43m(\u001b[49m\u001b[43mgame\u001b[49m\u001b[43m)\u001b[49m\n\u001b[1;32m      6\u001b[0m     num_beliefs \u001b[38;5;241m=\u001b[39m game\u001b[38;5;241m.\u001b[39mbelief_space\u001b[38;5;241m.\u001b[39mbelief_size()\n\u001b[1;32m      7\u001b[0m     value0,value1\u001b[38;5;241m=\u001b[39m value_fn\u001b[38;5;241m.\u001b[39mget_values_initial_belief()\n",
      "Cell \u001b[0;32mIn[5], line 4\u001b[0m, in \u001b[0;36mSOLVE\u001b[0;34m(game)\u001b[0m\n\u001b[1;32m      2\u001b[0m \u001b[38;5;28;01mdef\u001b[39;00m \u001b[38;5;21mSOLVE\u001b[39m(game):\n\u001b[1;32m      3\u001b[0m     start_time \u001b[38;5;241m=\u001b[39m time\u001b[38;5;241m.\u001b[39mtime()\n\u001b[0;32m----> 4\u001b[0m     policy \u001b[38;5;241m=\u001b[39m \u001b[43mgame\u001b[49m\u001b[38;5;241;43m.\u001b[39;49m\u001b[43msolve\u001b[49m\u001b[43m(\u001b[49m\u001b[43mnum_iterations\u001b[49m\u001b[43m,\u001b[49m\u001b[38;5;241;43m0.9\u001b[39;49m\u001b[43m)\u001b[49m\n\u001b[1;32m      5\u001b[0m     end_time \u001b[38;5;241m=\u001b[39m time\u001b[38;5;241m.\u001b[39mtime()\n\u001b[1;32m      6\u001b[0m     solve_time \u001b[38;5;241m=\u001b[39m end_time \u001b[38;5;241m-\u001b[39m start_time\n",
      "File \u001b[0;32m~/Documents/GitHub/Thesis/Classes.py:260\u001b[0m, in \u001b[0;36mPBVI.solve\u001b[0;34m(self, iterations, decay)\u001b[0m\n\u001b[1;32m    258\u001b[0m     \u001b[38;5;28mself\u001b[39m\u001b[38;5;241m.\u001b[39mbackward_induction()\n\u001b[1;32m    259\u001b[0m     \u001b[38;5;28mself\u001b[39m\u001b[38;5;241m.\u001b[39mdensity \u001b[38;5;241m/\u001b[39m\u001b[38;5;241m=\u001b[39m decay \u001b[38;5;66;03m#hyperparameter\u001b[39;00m\n\u001b[0;32m--> 260\u001b[0m \u001b[38;5;28mself\u001b[39m\u001b[38;5;241m.\u001b[39mpolicies[\u001b[38;5;241m0\u001b[39m] \u001b[38;5;241m=\u001b[39m \u001b[38;5;28;43mself\u001b[39;49m\u001b[38;5;241;43m.\u001b[39;49m\u001b[43mvalue_function\u001b[49m\u001b[38;5;241;43m.\u001b[39;49m\u001b[43mtree_extraction\u001b[49m\u001b[43m(\u001b[49m\u001b[38;5;28;43mself\u001b[39;49m\u001b[38;5;241;43m.\u001b[39;49m\u001b[43mproblem\u001b[49m\u001b[38;5;241;43m.\u001b[39;49m\u001b[43mb0\u001b[49m\u001b[43m,\u001b[49m\u001b[38;5;241;43m0\u001b[39;49m\u001b[43m,\u001b[49m\u001b[38;5;241;43m0\u001b[39;49m\u001b[43m)\u001b[49m    \n\u001b[1;32m    261\u001b[0m \u001b[38;5;28mself\u001b[39m\u001b[38;5;241m.\u001b[39mpolicies[\u001b[38;5;241m1\u001b[39m] \u001b[38;5;241m=\u001b[39m \u001b[38;5;28mself\u001b[39m\u001b[38;5;241m.\u001b[39mvalue_function\u001b[38;5;241m.\u001b[39mtree_extraction(\u001b[38;5;28mself\u001b[39m\u001b[38;5;241m.\u001b[39mproblem\u001b[38;5;241m.\u001b[39mb0,\u001b[38;5;241m1\u001b[39m,\u001b[38;5;241m0\u001b[39m)  \n\u001b[1;32m    262\u001b[0m \u001b[38;5;28;01mreturn\u001b[39;00m \u001b[38;5;28mself\u001b[39m\u001b[38;5;241m.\u001b[39mpolicies\n",
      "File \u001b[0;32m~/Documents/GitHub/Thesis/Classes.py:217\u001b[0m, in \u001b[0;36mValueFunction.tree_extraction\u001b[0;34m(self, belief, agent, timestep)\u001b[0m\n\u001b[1;32m    215\u001b[0m joint_action \u001b[38;5;241m=\u001b[39m CONSTANT\u001b[38;5;241m.\u001b[39mPROBLEM\u001b[38;5;241m.\u001b[39mget_joint_action(u_agent,u_not_agent)\n\u001b[1;32m    216\u001b[0m \u001b[38;5;28;01mfor\u001b[39;00m joint_observation \u001b[38;5;129;01min\u001b[39;00m CONSTANT\u001b[38;5;241m.\u001b[39mJOINT_OBSERVATIONS:\n\u001b[0;32m--> 217\u001b[0m     belief_next \u001b[38;5;241m=\u001b[39m \u001b[43mutilities\u001b[49m\u001b[38;5;241;43m.\u001b[39;49m\u001b[43mnext_belief\u001b[49m\u001b[43m(\u001b[49m\u001b[43mbelief\u001b[49m\u001b[43m,\u001b[49m\u001b[43mjoint_action\u001b[49m\u001b[43m,\u001b[49m\u001b[43mjoint_observation\u001b[49m\u001b[43m)\u001b[49m\n\u001b[1;32m    218\u001b[0m     subtree \u001b[38;5;241m=\u001b[39m \u001b[38;5;28mself\u001b[39m\u001b[38;5;241m.\u001b[39mtree_extraction(belief_next,agent,timestep\u001b[38;5;241m+\u001b[39m\u001b[38;5;241m1\u001b[39m)\n\u001b[1;32m    219\u001b[0m     policy\u001b[38;5;241m.\u001b[39madd_subtree(belief_next,subtree)\n",
      "File \u001b[0;32m~/Documents/GitHub/Thesis/utilities.py:121\u001b[0m, in \u001b[0;36mUtilities.next_belief\u001b[0;34m(self, belief, joint_DR, joint_observation)\u001b[0m\n\u001b[1;32m    117\u001b[0m         next_belief[next_state]\u001b[38;5;241m+\u001b[39m\u001b[38;5;241m=\u001b[39mvalue\n\u001b[1;32m    119\u001b[0m next_belief \u001b[38;5;241m=\u001b[39m \u001b[38;5;28mself\u001b[39m\u001b[38;5;241m.\u001b[39mnormalize(next_belief)\n\u001b[0;32m--> 121\u001b[0m \u001b[38;5;28;01mif\u001b[39;00m \u001b[43mnp\u001b[49m\u001b[38;5;241;43m.\u001b[39;49m\u001b[43msum\u001b[49m\u001b[43m(\u001b[49m\u001b[43mnext_belief\u001b[49m\u001b[43m)\u001b[49m\u001b[38;5;241;43m<\u001b[39;49m\u001b[38;5;241;43m=\u001b[39;49m\u001b[43m \u001b[49m\u001b[38;5;241;43m1.001\u001b[39;49m \u001b[38;5;129;01mand\u001b[39;00m np\u001b[38;5;241m.\u001b[39msum(next_belief)\u001b[38;5;241m>\u001b[39m \u001b[38;5;241m0.99999\u001b[39m:\n\u001b[1;32m    122\u001b[0m     \u001b[38;5;28;01mreturn\u001b[39;00m next_belief\n\u001b[1;32m    123\u001b[0m \u001b[38;5;28;01melse\u001b[39;00m:\n",
      "\u001b[0;31mTypeError\u001b[0m: '<=' not supported between instances of 'NoneType' and 'float'"
     ]
    }
   ],
   "source": [
    "database = initialize_database()\n",
    "for sota_ in [True,False]:\n",
    "    for horizon in range(1,planning_horizon+1):\n",
    "        game = Classes.PBVI(problem=problem,horizon=horizon,density=0.1,gametype=game_type,sota=sota_)\n",
    "        policy, time_ , value_fn = SOLVE(game)\n",
    "        num_beliefs = game.belief_space.belief_size()\n",
    "        value0,value1= value_fn.get_values_initial_belief()\n",
    "        add_to_database(database,horizon,game_type,2,time_,num_beliefs,value0,value1,sota_)\n",
    "\n",
    "database = pd.DataFrame(database)\n",
    "file_name = f\"{file_name}_{game_type}_experiment_results.csv\"\n",
    "database.to_csv(file_name, index=False)\n",
    "\n"
   ]
  },
  {
   "cell_type": "code",
   "execution_count": null,
   "metadata": {},
   "outputs": [
    {
     "data": {
      "text/html": [
       "<div>\n",
       "<style scoped>\n",
       "    .dataframe tbody tr th:only-of-type {\n",
       "        vertical-align: middle;\n",
       "    }\n",
       "\n",
       "    .dataframe tbody tr th {\n",
       "        vertical-align: top;\n",
       "    }\n",
       "\n",
       "    .dataframe thead th {\n",
       "        text-align: right;\n",
       "    }\n",
       "</style>\n",
       "<table border=\"1\" class=\"dataframe\">\n",
       "  <thead>\n",
       "    <tr style=\"text-align: right;\">\n",
       "      <th></th>\n",
       "      <th>gametype</th>\n",
       "      <th>SOTA</th>\n",
       "      <th>horizon</th>\n",
       "      <th>num_iterations</th>\n",
       "      <th>average_time</th>\n",
       "      <th>number_of_beliefs</th>\n",
       "      <th>leader_value_b0</th>\n",
       "      <th>follower_value_b0</th>\n",
       "    </tr>\n",
       "  </thead>\n",
       "  <tbody>\n",
       "    <tr>\n",
       "      <th>0</th>\n",
       "      <td>stackelberg</td>\n",
       "      <td>True</td>\n",
       "      <td>1</td>\n",
       "      <td>2</td>\n",
       "      <td>0.105332</td>\n",
       "      <td>1</td>\n",
       "      <td>[-2.888888888888885, -2.888888888888885, -2.88...</td>\n",
       "      <td>[-52.611111111111114, -52.611111111111114, -52...</td>\n",
       "    </tr>\n",
       "    <tr>\n",
       "      <th>1</th>\n",
       "      <td>stackelberg</td>\n",
       "      <td>True</td>\n",
       "      <td>2</td>\n",
       "      <td>2</td>\n",
       "      <td>0.789244</td>\n",
       "      <td>4</td>\n",
       "      <td>[-5.77777777777777, -5.77777777777777, -5.7777...</td>\n",
       "      <td>[-52.611111111111114, -52.611111111111114, -52...</td>\n",
       "    </tr>\n",
       "    <tr>\n",
       "      <th>2</th>\n",
       "      <td>stackelberg</td>\n",
       "      <td>True</td>\n",
       "      <td>3</td>\n",
       "      <td>2</td>\n",
       "      <td>2.827996</td>\n",
       "      <td>7</td>\n",
       "      <td>[-8.666666666666655, -8.666666666666655, -8.66...</td>\n",
       "      <td>[-52.611111111111114, -52.611111111111114, -52...</td>\n",
       "    </tr>\n",
       "    <tr>\n",
       "      <th>3</th>\n",
       "      <td>stackelberg</td>\n",
       "      <td>False</td>\n",
       "      <td>1</td>\n",
       "      <td>2</td>\n",
       "      <td>0.058213</td>\n",
       "      <td>1</td>\n",
       "      <td>[-2.888888888888885, -2.888888888888885, -2.88...</td>\n",
       "      <td>[-52.611111111111114, -52.611111111111114, -52...</td>\n",
       "    </tr>\n",
       "    <tr>\n",
       "      <th>4</th>\n",
       "      <td>stackelberg</td>\n",
       "      <td>False</td>\n",
       "      <td>2</td>\n",
       "      <td>2</td>\n",
       "      <td>0.918278</td>\n",
       "      <td>4</td>\n",
       "      <td>[-5.777777777777775, -5.777777777777775, -5.77...</td>\n",
       "      <td>[-105.22222222222224, -105.22222222222224, -10...</td>\n",
       "    </tr>\n",
       "    <tr>\n",
       "      <th>5</th>\n",
       "      <td>stackelberg</td>\n",
       "      <td>False</td>\n",
       "      <td>3</td>\n",
       "      <td>2</td>\n",
       "      <td>3.327659</td>\n",
       "      <td>7</td>\n",
       "      <td>[-8.666666666666645, -8.666666666666645, -8.66...</td>\n",
       "      <td>[-157.83333333333337, -157.83333333333337, -15...</td>\n",
       "    </tr>\n",
       "  </tbody>\n",
       "</table>\n",
       "</div>"
      ],
      "text/plain": [
       "      gametype   SOTA  horizon  num_iterations  average_time  \\\n",
       "0  stackelberg   True        1               2      0.105332   \n",
       "1  stackelberg   True        2               2      0.789244   \n",
       "2  stackelberg   True        3               2      2.827996   \n",
       "3  stackelberg  False        1               2      0.058213   \n",
       "4  stackelberg  False        2               2      0.918278   \n",
       "5  stackelberg  False        3               2      3.327659   \n",
       "\n",
       "   number_of_beliefs                                    leader_value_b0  \\\n",
       "0                  1  [-2.888888888888885, -2.888888888888885, -2.88...   \n",
       "1                  4  [-5.77777777777777, -5.77777777777777, -5.7777...   \n",
       "2                  7  [-8.666666666666655, -8.666666666666655, -8.66...   \n",
       "3                  1  [-2.888888888888885, -2.888888888888885, -2.88...   \n",
       "4                  4  [-5.777777777777775, -5.777777777777775, -5.77...   \n",
       "5                  7  [-8.666666666666645, -8.666666666666645, -8.66...   \n",
       "\n",
       "                                   follower_value_b0  \n",
       "0  [-52.611111111111114, -52.611111111111114, -52...  \n",
       "1  [-52.611111111111114, -52.611111111111114, -52...  \n",
       "2  [-52.611111111111114, -52.611111111111114, -52...  \n",
       "3  [-52.611111111111114, -52.611111111111114, -52...  \n",
       "4  [-105.22222222222224, -105.22222222222224, -10...  \n",
       "5  [-157.83333333333337, -157.83333333333337, -15...  "
      ]
     },
     "execution_count": 15,
     "metadata": {},
     "output_type": "execute_result"
    }
   ],
   "source": [
    "database"
   ]
  },
  {
   "cell_type": "code",
   "execution_count": null,
   "metadata": {},
   "outputs": [
    {
     "data": {
      "text/plain": [
       "{0: [array([0.5, 0.5])],\n",
       " 1: [array([0.96979866, 0.03020134]),\n",
       "  array([0.5, 0.5]),\n",
       "  array([0.03020134, 0.96979866])],\n",
       " 2: [array([9.99031124e-01, 9.68876343e-04]),\n",
       "  array([0.5, 0.5]),\n",
       "  array([0.03020134, 0.96979866])],\n",
       " 3: []}"
      ]
     },
     "execution_count": 16,
     "metadata": {},
     "output_type": "execute_result"
    }
   ],
   "source": [
    "game.belief_space.belief_states"
   ]
  }
 ],
 "metadata": {
  "kernelspec": {
   "display_name": "tensorflow",
   "language": "python",
   "name": "python3"
  },
  "language_info": {
   "codemirror_mode": {
    "name": "ipython",
    "version": 3
   },
   "file_extension": ".py",
   "mimetype": "text/x-python",
   "name": "python",
   "nbconvert_exporter": "python",
   "pygments_lexer": "ipython3",
   "version": "3.10.8"
  }
 },
 "nbformat": 4,
 "nbformat_minor": 2
}
