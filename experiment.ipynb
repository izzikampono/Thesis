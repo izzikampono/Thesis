{
 "cells": [
  {
   "cell_type": "code",
   "execution_count": 1,
   "metadata": {},
   "outputs": [],
   "source": [
    "import numpy as np\n",
    "import pandas as pd\n",
    "import matplotlib.pyplot as plt\n",
    "from decpomdp import DecPOMDP\n",
    "from utilities import *\n",
    "import utilities\n",
    "import time\n",
    "import os\n",
    "\n"
   ]
  },
  {
   "cell_type": "code",
   "execution_count": 23,
   "metadata": {},
   "outputs": [],
   "source": [
    "file_name = \"dectiger\"\n",
    "game_type = \"stackelberg\"\n",
    "planning_horizon = 3\n",
    "num_iterations = 10\n",
    "sota_ = False\n"
   ]
  },
  {
   "cell_type": "code",
   "execution_count": 24,
   "metadata": {},
   "outputs": [
    {
     "name": "stdout",
     "output_type": "stream",
     "text": [
      "stackelberg initiated with SOTA set to = False\n"
     ]
    }
   ],
   "source": [
    "#import problem\n",
    "problem = DecPOMDP(file_name, 1,horizon=planning_horizon)\n",
    "utilities.set_problem(problem,planning_horizon)\n",
    "utilities.problem.reset()\n",
    "print(f\"{game_type} initiated with SOTA set to = {sota_}\")"
   ]
  },
  {
   "cell_type": "code",
   "execution_count": 25,
   "metadata": {},
   "outputs": [],
   "source": [
    "# solve\n",
    "def SOLVE(problem,planning_horizon,sota_):\n",
    "    start_time = time.time()\n",
    "    game = PBVI(problem,planning_horizon,0.1,game_type,sota=sota_)\n",
    "    policy = game.solve(num_iterations,0.9)\n",
    "    end_time = time.time()\n",
    "    solve_time = end_time - start_time\n",
    "    value_fn = game.value_function\n",
    "    return policy,solve_time,value_fn"
   ]
  },
  {
   "cell_type": "code",
   "execution_count": 26,
   "metadata": {},
   "outputs": [],
   "source": [
    "def initialize_database():\n",
    "    database = {\"gametype\":[],\n",
    "                \"horizon\": [],\n",
    "                \"SOTA\" : [],\n",
    "                    \"num_iterations\" : [],\n",
    "                    \"average_time\" : [],\n",
    "                    \"number_of_beliefs\" : [],\n",
    "                    \"value_initial_belief\":[],\n",
    "                   \n",
    "                    }\n",
    "    return database\n",
    "\n",
    "def add_to_database(database,horizon,game_type,num_iterations,average_time,num_beliefs,V_B0,SOTA):\n",
    "    database[\"gametype\"].append(game_type)\n",
    "    database[\"horizon\"].append(horizon)\n",
    "    database[\"SOTA\"].append(SOTA)\n",
    "    database[\"num_iterations\"].append(num_iterations)\n",
    "    database[\"average_time\"].append(average_time)\n",
    "    database[\"number_of_beliefs\"].append(num_beliefs)\n",
    "    database[\"value_initial_belief\"].append(V_B0)\n",
    "    return\n"
   ]
  },
  {
   "cell_type": "code",
   "execution_count": 28,
   "metadata": {},
   "outputs": [
    {
     "data": {
      "text/html": [
       "<div>\n",
       "<style scoped>\n",
       "    .dataframe tbody tr th:only-of-type {\n",
       "        vertical-align: middle;\n",
       "    }\n",
       "\n",
       "    .dataframe tbody tr th {\n",
       "        vertical-align: top;\n",
       "    }\n",
       "\n",
       "    .dataframe thead th {\n",
       "        text-align: right;\n",
       "    }\n",
       "</style>\n",
       "<table border=\"1\" class=\"dataframe\">\n",
       "  <thead>\n",
       "    <tr style=\"text-align: right;\">\n",
       "      <th></th>\n",
       "      <th>gametype</th>\n",
       "      <th>horizon</th>\n",
       "      <th>SOTA</th>\n",
       "      <th>num_iterations</th>\n",
       "      <th>average_time</th>\n",
       "      <th>number_of_beliefs</th>\n",
       "      <th>value_initial_belief</th>\n",
       "    </tr>\n",
       "  </thead>\n",
       "  <tbody>\n",
       "    <tr>\n",
       "      <th>0</th>\n",
       "      <td>stackelberg</td>\n",
       "      <td>1</td>\n",
       "      <td>True</td>\n",
       "      <td>10</td>\n",
       "      <td>0.177870</td>\n",
       "      <td>1</td>\n",
       "      <td>([23.40909090909091, 23.40909090909091, 23.409...</td>\n",
       "    </tr>\n",
       "    <tr>\n",
       "      <th>1</th>\n",
       "      <td>stackelberg</td>\n",
       "      <td>2</td>\n",
       "      <td>True</td>\n",
       "      <td>10</td>\n",
       "      <td>4.217043</td>\n",
       "      <td>1</td>\n",
       "      <td>([46.81818181818181, 46.81818181818181, 46.818...</td>\n",
       "    </tr>\n",
       "    <tr>\n",
       "      <th>2</th>\n",
       "      <td>stackelberg</td>\n",
       "      <td>3</td>\n",
       "      <td>True</td>\n",
       "      <td>10</td>\n",
       "      <td>14.100495</td>\n",
       "      <td>1</td>\n",
       "      <td>([70.22727272727273, 70.22727272727273, 70.227...</td>\n",
       "    </tr>\n",
       "    <tr>\n",
       "      <th>3</th>\n",
       "      <td>stackelberg</td>\n",
       "      <td>1</td>\n",
       "      <td>False</td>\n",
       "      <td>10</td>\n",
       "      <td>0.666438</td>\n",
       "      <td>1</td>\n",
       "      <td>([23.40909090909091, 23.40909090909091, 23.409...</td>\n",
       "    </tr>\n",
       "    <tr>\n",
       "      <th>4</th>\n",
       "      <td>stackelberg</td>\n",
       "      <td>2</td>\n",
       "      <td>False</td>\n",
       "      <td>10</td>\n",
       "      <td>3.298669</td>\n",
       "      <td>1</td>\n",
       "      <td>([46.81818181818181, 46.81818181818181, 46.818...</td>\n",
       "    </tr>\n",
       "    <tr>\n",
       "      <th>5</th>\n",
       "      <td>stackelberg</td>\n",
       "      <td>3</td>\n",
       "      <td>False</td>\n",
       "      <td>10</td>\n",
       "      <td>14.242586</td>\n",
       "      <td>1</td>\n",
       "      <td>([70.22727272727273, 70.22727272727273, 70.227...</td>\n",
       "    </tr>\n",
       "  </tbody>\n",
       "</table>\n",
       "</div>"
      ],
      "text/plain": [
       "      gametype  horizon   SOTA  num_iterations  average_time  \\\n",
       "0  stackelberg        1   True              10      0.177870   \n",
       "1  stackelberg        2   True              10      4.217043   \n",
       "2  stackelberg        3   True              10     14.100495   \n",
       "3  stackelberg        1  False              10      0.666438   \n",
       "4  stackelberg        2  False              10      3.298669   \n",
       "5  stackelberg        3  False              10     14.242586   \n",
       "\n",
       "   number_of_beliefs                               value_initial_belief  \n",
       "0                  1  ([23.40909090909091, 23.40909090909091, 23.409...  \n",
       "1                  1  ([46.81818181818181, 46.81818181818181, 46.818...  \n",
       "2                  1  ([70.22727272727273, 70.22727272727273, 70.227...  \n",
       "3                  1  ([23.40909090909091, 23.40909090909091, 23.409...  \n",
       "4                  1  ([46.81818181818181, 46.81818181818181, 46.818...  \n",
       "5                  1  ([70.22727272727273, 70.22727272727273, 70.227...  "
      ]
     },
     "execution_count": 28,
     "metadata": {},
     "output_type": "execute_result"
    }
   ],
   "source": [
    "database = initialize_database()\n",
    "for sota_ in [True,False]:\n",
    "    for horizon in range(1,planning_horizon+1):\n",
    "        game = PBVI(problem,horizon,0.1,game_type,sota=sota_)\n",
    "        policy, time_ , value_fn = SOLVE(problem,horizon,sota_)\n",
    "        num_beliefs = game.belief_space.belief_size()\n",
    "        value = value_fn.get_values_initial_belief()\n",
    "        add_to_database(database,horizon,game_type,num_iterations,time_,num_beliefs,value,sota_)\n",
    "\n",
    "database = pd.DataFrame(database)\n",
    "file_name = 'experiment_results.csv'\n",
    "database.to_csv(file_name, index=False)\n",
    "\n"
   ]
  }
 ],
 "metadata": {
  "kernelspec": {
   "display_name": "tensorflow",
   "language": "python",
   "name": "python3"
  },
  "language_info": {
   "codemirror_mode": {
    "name": "ipython",
    "version": 3
   },
   "file_extension": ".py",
   "mimetype": "text/x-python",
   "name": "python",
   "nbconvert_exporter": "python",
   "pygments_lexer": "ipython3",
   "version": "3.10.8"
  }
 },
 "nbformat": 4,
 "nbformat_minor": 2
}
