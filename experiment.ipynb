{
 "cells": [
  {
   "cell_type": "code",
   "execution_count": 1,
   "metadata": {},
   "outputs": [],
   "source": [
    "import numpy as np\n",
    "import pandas as pd\n",
    "import matplotlib.pyplot as plt\n",
    "from decpomdp import DecPOMDP\n",
    "import Classes\n",
    "from constant import Constants\n",
    "import time\n",
    "import os\n",
    "\n"
   ]
  },
  {
   "cell_type": "code",
   "execution_count": 2,
   "metadata": {},
   "outputs": [],
   "source": [
    "file_name = \"dectiger\"\n",
    "planning_horizon = 1\n",
    "num_iterations = 1\n",
    "sota_ = False\n"
   ]
  },
  {
   "cell_type": "markdown",
   "metadata": {},
   "source": []
  },
  {
   "cell_type": "code",
   "execution_count": 3,
   "metadata": {},
   "outputs": [
    {
     "name": "stdout",
     "output_type": "stream",
     "text": [
      "problem set to dectiger\n",
      "game size :\n",
      "\t|S| = 2\n",
      "\t|Z| = 4\n",
      "\t|U| = 9 with |U_i| = 3\n",
      "intiial_belief : [0.5 0.5]\n",
      "3,3\n"
     ]
    }
   ],
   "source": [
    "#import problem\n",
    "problem = DecPOMDP(file_name, 1,horizon=planning_horizon)\n",
    "# constant = Constants(problem)\n",
    "# utilities = Utilities(constant)\n",
    "Classes.set_problem(problem)\n",
    "\n",
    "# print(f\"game of initiated with SOTA set to = {sota_} with horizon {planning_horizon}\")\n",
    "print(f\"game size :\\n\\t|S| = {len(problem.states)}\")\n",
    "print(f\"\\t|Z| = {problem.num_joint_observations}\\n\\t|U| = {problem.num_joint_actions} with |U_i| = {problem.num_actions[0]}\")\n",
    "print(f\"intiial_belief : {problem.b0}\")\n",
    "\n",
    "\n",
    "print(f\"{problem.num_actions[0]},{problem.num_actions[0]}\")"
   ]
  },
  {
   "cell_type": "code",
   "execution_count": 4,
   "metadata": {},
   "outputs": [],
   "source": [
    "# solve\n",
    "def SOLVE(game):\n",
    "    start_time = time.time()\n",
    "    policy = game.solve(num_iterations,0.9)\n",
    "    end_time = time.time()\n",
    "    solve_time = end_time - start_time\n",
    "    value_fn = game.value_function\n",
    "    return policy,solve_time,value_fn"
   ]
  },
  {
   "cell_type": "code",
   "execution_count": 5,
   "metadata": {},
   "outputs": [],
   "source": [
    "def initialize_database():\n",
    "    database = {\"gametype\":[],\n",
    "                \"SOTA\" : [],\n",
    "                \"horizon\": [],\n",
    "                    \"num_iterations\" : [],\n",
    "                    \"average_time\" : [],\n",
    "                    \"number_of_beliefs\" : [],\n",
    "                    \"ave_leader_value_b0\":[],\n",
    "                    \"ave_follower_value_b0\":[]\n",
    "                    # \"density\" = []\n",
    "                    # \"gap\":[]\n",
    "                   \n",
    "                    }\n",
    "    return database\n",
    "\n",
    "def add_to_database(database,horizon,game_type,num_iterations,average_time,num_beliefs,V0_B0,V1_B0,SOTA):\n",
    "    sota = {True:\"State of the Art\" , False:\"Stackelberg\"}\n",
    "    database[\"gametype\"].append(game_type)\n",
    "    database[\"horizon\"].append(horizon)\n",
    "    database[\"SOTA\"].append(sota[SOTA])\n",
    "    database[\"num_iterations\"].append(num_iterations)\n",
    "    database[\"average_time\"].append(average_time)\n",
    "    database[\"number_of_beliefs\"].append(num_beliefs)\n",
    "    database[\"ave_leader_value_b0\"].append(V0_B0)\n",
    "    database[\"ave_follower_value_b0\"].append(V1_B0)\n",
    "    # database[\"gap\"].append(abs(V0_B0-V1_B0))\n",
    "    # database[\"density\"].append(density)\n",
    "    return\n"
   ]
  },
  {
   "cell_type": "code",
   "execution_count": 6,
   "metadata": {},
   "outputs": [
    {
     "name": "stdout",
     "output_type": "stream",
     "text": [
      "problem set to dectiger\n",
      "\n",
      "============= cooperative GAME WITH HORIZON 1 , SOTA False ===========\n",
      "\tbelief expansion done\n",
      "iteration : 1\n"
     ]
    },
    {
     "name": "stdout",
     "output_type": "stream",
     "text": [
      "\tbackup at timestep 1 done\n",
      "\tbackup at timestep 0 done\n",
      "\tbackward induction done\n",
      "\n",
      "============= cooperative GAME WITH HORIZON 1 , SOTA True ===========\n",
      "\tbelief expansion done\n",
      "iteration : 1\n",
      "\tbackup at timestep 1 done\n",
      "\tbackup at timestep 0 done\n",
      "\tbackward induction done\n",
      "problem set to dectiger\n",
      "\n",
      "============= zerosum GAME WITH HORIZON 1 , SOTA False ===========\n",
      "\tbelief expansion done\n",
      "iteration : 1\n",
      "\tbackup at timestep 1 done\n",
      "\tbackup at timestep 0 done\n",
      "\tbackward induction done\n",
      "\n",
      "============= zerosum GAME WITH HORIZON 1 , SOTA True ===========\n",
      "\tbelief expansion done\n",
      "iteration : 1\n",
      "\tbackup at timestep 1 done\n",
      "\tbackup at timestep 0 done\n",
      "\tbackward induction done\n",
      "problem set to dectiger\n",
      "\n",
      "============= stackelberg GAME WITH HORIZON 1 , SOTA False ===========\n",
      "\tbelief expansion done\n",
      "iteration : 1\n",
      "\tbackup at timestep 1 done\n",
      "\tbackup at timestep 0 done\n",
      "\tbackward induction done\n",
      "\n",
      "============= stackelberg GAME WITH HORIZON 1 , SOTA True ===========\n",
      "\tbelief expansion done\n",
      "iteration : 1\n",
      "\tbackup at timestep 1 done\n",
      "\tbackup at timestep 0 done\n",
      "\tbackward induction done\n"
     ]
    }
   ],
   "source": [
    "database = initialize_database()\n",
    "for gametype in [\"cooperative\",\"zerosum\",\"stackelberg\"]:\n",
    "    for horizon in range(1,planning_horizon+1):\n",
    "        problem = DecPOMDP(file_name,1,horizon=planning_horizon)\n",
    "        Classes.set_problem(problem)\n",
    "        for sota_ in [False,True]:\n",
    "            print(f\"\\n============= {gametype} GAME WITH HORIZON {horizon} , SOTA {sota_} ===========\")\n",
    "          \n",
    "            game = Classes.PBVI(problem=problem,horizon=horizon,density=0.1,gametype=gametype,sota=sota_)\n",
    "            policy, time_ , value_fn = SOLVE(game)\n",
    "            num_beliefs = game.belief_space.belief_size()\n",
    "            value0,value1= value_fn.get_values_initial_belief()\n",
    "            add_to_database(database,horizon,gametype,2,time_,num_beliefs,value0,value1,sota_)\n",
    "#POLICY PRINTING: \n",
    "# print(\"\\nLEADER POLICY\\n\")\n",
    "# policy[0].print_trees()\n",
    "# print(\"\\nFOLLOWER POLICY\\n\")\n",
    "# policy[1].print_trees()        \n",
    "\n",
    "\n",
    "\n",
    "database = pd.DataFrame(database)\n",
    "path = \"Results/\"\n",
    "file_name = f\"{file_name}_{horizon}_experiment_results.csv\"\n",
    "database.to_csv(file_name, index=False)\n",
    "\n"
   ]
  },
  {
   "cell_type": "code",
   "execution_count": 7,
   "metadata": {},
   "outputs": [
    {
     "data": {
      "text/html": [
       "<div>\n",
       "<style scoped>\n",
       "    .dataframe tbody tr th:only-of-type {\n",
       "        vertical-align: middle;\n",
       "    }\n",
       "\n",
       "    .dataframe tbody tr th {\n",
       "        vertical-align: top;\n",
       "    }\n",
       "\n",
       "    .dataframe thead th {\n",
       "        text-align: right;\n",
       "    }\n",
       "</style>\n",
       "<table border=\"1\" class=\"dataframe\">\n",
       "  <thead>\n",
       "    <tr style=\"text-align: right;\">\n",
       "      <th></th>\n",
       "      <th>gametype</th>\n",
       "      <th>SOTA</th>\n",
       "      <th>horizon</th>\n",
       "      <th>num_iterations</th>\n",
       "      <th>average_time</th>\n",
       "      <th>number_of_beliefs</th>\n",
       "      <th>ave_leader_value_b0</th>\n",
       "      <th>ave_follower_value_b0</th>\n",
       "    </tr>\n",
       "  </thead>\n",
       "  <tbody>\n",
       "    <tr>\n",
       "      <th>0</th>\n",
       "      <td>cooperative</td>\n",
       "      <td>Stackelberg</td>\n",
       "      <td>1</td>\n",
       "      <td>2</td>\n",
       "      <td>0.189921</td>\n",
       "      <td>4</td>\n",
       "      <td>[10.815000000000001]</td>\n",
       "      <td>[10.815000000000001]</td>\n",
       "    </tr>\n",
       "    <tr>\n",
       "      <th>1</th>\n",
       "      <td>cooperative</td>\n",
       "      <td>State of the Art</td>\n",
       "      <td>1</td>\n",
       "      <td>2</td>\n",
       "      <td>0.005508</td>\n",
       "      <td>4</td>\n",
       "      <td>[10.815000000000001]</td>\n",
       "      <td>[10.815000000000001]</td>\n",
       "    </tr>\n",
       "    <tr>\n",
       "      <th>2</th>\n",
       "      <td>zerosum</td>\n",
       "      <td>Stackelberg</td>\n",
       "      <td>1</td>\n",
       "      <td>2</td>\n",
       "      <td>0.083990</td>\n",
       "      <td>4</td>\n",
       "      <td>[-88.22274983811785]</td>\n",
       "      <td>[88.22274983811785]</td>\n",
       "    </tr>\n",
       "    <tr>\n",
       "      <th>3</th>\n",
       "      <td>zerosum</td>\n",
       "      <td>State of the Art</td>\n",
       "      <td>1</td>\n",
       "      <td>2</td>\n",
       "      <td>0.155922</td>\n",
       "      <td>4</td>\n",
       "      <td>[-88.22274983811785]</td>\n",
       "      <td>[-88.22274983811785]</td>\n",
       "    </tr>\n",
       "    <tr>\n",
       "      <th>4</th>\n",
       "      <td>stackelberg</td>\n",
       "      <td>Stackelberg</td>\n",
       "      <td>1</td>\n",
       "      <td>2</td>\n",
       "      <td>0.083272</td>\n",
       "      <td>4</td>\n",
       "      <td>[3.468480039267017]</td>\n",
       "      <td>[-78.47541939354277]</td>\n",
       "    </tr>\n",
       "    <tr>\n",
       "      <th>5</th>\n",
       "      <td>stackelberg</td>\n",
       "      <td>State of the Art</td>\n",
       "      <td>1</td>\n",
       "      <td>2</td>\n",
       "      <td>0.060585</td>\n",
       "      <td>4</td>\n",
       "      <td>[2.4107554144557923]</td>\n",
       "      <td>[-52.611111111111114]</td>\n",
       "    </tr>\n",
       "  </tbody>\n",
       "</table>\n",
       "</div>"
      ],
      "text/plain": [
       "      gametype              SOTA  horizon  num_iterations  average_time  \\\n",
       "0  cooperative       Stackelberg        1               2      0.189921   \n",
       "1  cooperative  State of the Art        1               2      0.005508   \n",
       "2      zerosum       Stackelberg        1               2      0.083990   \n",
       "3      zerosum  State of the Art        1               2      0.155922   \n",
       "4  stackelberg       Stackelberg        1               2      0.083272   \n",
       "5  stackelberg  State of the Art        1               2      0.060585   \n",
       "\n",
       "   number_of_beliefs   ave_leader_value_b0  ave_follower_value_b0  \n",
       "0                  4  [10.815000000000001]   [10.815000000000001]  \n",
       "1                  4  [10.815000000000001]   [10.815000000000001]  \n",
       "2                  4  [-88.22274983811785]    [88.22274983811785]  \n",
       "3                  4  [-88.22274983811785]   [-88.22274983811785]  \n",
       "4                  4   [3.468480039267017]   [-78.47541939354277]  \n",
       "5                  4  [2.4107554144557923]  [-52.611111111111114]  "
      ]
     },
     "execution_count": 7,
     "metadata": {},
     "output_type": "execute_result"
    }
   ],
   "source": [
    "database"
   ]
  },
  {
   "cell_type": "markdown",
   "metadata": {},
   "source": [
    "game.value_function"
   ]
  },
  {
   "cell_type": "code",
   "execution_count": 8,
   "metadata": {},
   "outputs": [
    {
     "name": "stdout",
     "output_type": "stream",
     "text": [
      "(2.4107554144557923, -52.611111111111114)\n"
     ]
    }
   ],
   "source": [
    "for i in game.value_function.vector_sets[0]:\n",
    "    print(i.get_value(game.belief_space.get_inital_belief()))"
   ]
  },
  {
   "cell_type": "markdown",
   "metadata": {},
   "source": []
  },
  {
   "cell_type": "code",
   "execution_count": 9,
   "metadata": {},
   "outputs": [
    {
     "name": "stdout",
     "output_type": "stream",
     "text": [
      "RESULTS FOR dectiger_1_experiment_results.csv:\n",
      "\n"
     ]
    }
   ],
   "source": [
    "print(f\"RESULTS FOR {file_name}:\\n\")"
   ]
  }
 ],
 "metadata": {
  "kernelspec": {
   "display_name": "tensorflow",
   "language": "python",
   "name": "python3"
  },
  "language_info": {
   "codemirror_mode": {
    "name": "ipython",
    "version": 3
   },
   "file_extension": ".py",
   "mimetype": "text/x-python",
   "name": "python",
   "nbconvert_exporter": "python",
   "pygments_lexer": "ipython3",
   "version": "3.10.8"
  }
 },
 "nbformat": 4,
 "nbformat_minor": 2
}
