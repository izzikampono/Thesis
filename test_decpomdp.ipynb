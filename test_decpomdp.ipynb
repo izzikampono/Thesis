{
 "cells": [
  {
   "cell_type": "code",
   "execution_count": 1,
   "metadata": {},
   "outputs": [],
   "source": [
    "import numpy as np\n",
    "import pandas as pd\n",
    "import random \n",
    "from decpomdp import DecPOMDP\n",
    "\n"
   ]
  },
  {
   "cell_type": "code",
   "execution_count": null,
   "metadata": {},
   "outputs": [],
   "source": []
  },
  {
   "cell_type": "code",
   "execution_count": 2,
   "metadata": {},
   "outputs": [],
   "source": [
    "from decpomdp import DecPOMDP\n",
    "horizon = 5\n",
    "cooperative_game = DecPOMDP('Mars',1 , 1)\n",
    "\n"
   ]
  },
  {
   "cell_type": "code",
   "execution_count": 4,
   "metadata": {},
   "outputs": [
    {
     "name": "stdout",
     "output_type": "stream",
     "text": [
      "GAME DESCRIPTION :\n"
     ]
    },
    {
     "ename": "NameError",
     "evalue": "name 'problem' is not defined",
     "output_type": "error",
     "traceback": [
      "\u001b[0;31m---------------------------------------------------------------------------\u001b[0m",
      "\u001b[0;31mNameError\u001b[0m                                 Traceback (most recent call last)",
      "Cell \u001b[0;32mIn[4], line 2\u001b[0m\n\u001b[1;32m      1\u001b[0m \u001b[38;5;28mprint\u001b[39m(\u001b[38;5;124m\"\u001b[39m\u001b[38;5;124mGAME DESCRIPTION :\u001b[39m\u001b[38;5;124m\"\u001b[39m)\n\u001b[0;32m----> 2\u001b[0m \u001b[38;5;28mprint\u001b[39m(\u001b[38;5;124mf\u001b[39m\u001b[38;5;124m\"\u001b[39m\u001b[38;5;124mgame size :\u001b[39m\u001b[38;5;130;01m\\n\u001b[39;00m\u001b[38;5;130;01m\\t\u001b[39;00m\u001b[38;5;124m|S| = \u001b[39m\u001b[38;5;132;01m{\u001b[39;00m\u001b[38;5;28mlen\u001b[39m(\u001b[43mproblem\u001b[49m\u001b[38;5;241m.\u001b[39mstates)\u001b[38;5;132;01m}\u001b[39;00m\u001b[38;5;124m\"\u001b[39m)\n\u001b[1;32m      3\u001b[0m \u001b[38;5;28mprint\u001b[39m(\u001b[38;5;124mf\u001b[39m\u001b[38;5;124m\"\u001b[39m\u001b[38;5;130;01m\\t\u001b[39;00m\u001b[38;5;124m|Z| = \u001b[39m\u001b[38;5;132;01m{\u001b[39;00mproblem\u001b[38;5;241m.\u001b[39mnum_joint_observations\u001b[38;5;132;01m}\u001b[39;00m\u001b[38;5;130;01m\\n\u001b[39;00m\u001b[38;5;130;01m\\t\u001b[39;00m\u001b[38;5;124m|U| = \u001b[39m\u001b[38;5;132;01m{\u001b[39;00mproblem\u001b[38;5;241m.\u001b[39mnum_joint_actions\u001b[38;5;132;01m}\u001b[39;00m\u001b[38;5;124m with |U_i| = \u001b[39m\u001b[38;5;132;01m{\u001b[39;00mproblem\u001b[38;5;241m.\u001b[39mnum_actions[\u001b[38;5;241m0\u001b[39m]\u001b[38;5;132;01m}\u001b[39;00m\u001b[38;5;124m\"\u001b[39m)\n\u001b[1;32m      4\u001b[0m \u001b[38;5;28mprint\u001b[39m(\u001b[38;5;124mf\u001b[39m\u001b[38;5;124m\"\u001b[39m\u001b[38;5;124mintiial_belief : \u001b[39m\u001b[38;5;132;01m{\u001b[39;00mproblem\u001b[38;5;241m.\u001b[39mb0\u001b[38;5;132;01m}\u001b[39;00m\u001b[38;5;124m\"\u001b[39m)\n",
      "\u001b[0;31mNameError\u001b[0m: name 'problem' is not defined"
     ]
    }
   ],
   "source": [
    "print(\"GAME DESCRIPTION :\")\n",
    "print(f\"game size :\\n\\t|S| = {len(cooperative_game.states)}\")\n",
    "print(f\"\\t|Z| = {cooperative_game.num_joint_observations}\\n\\t|U| = {cooperative_game.num_joint_actions} with |U_i| = {cooperative_game.num_actions[0]}\")\n",
    "print(f\"intiial_belief : {cooperative_game.b0}\")\n",
    "\n"
   ]
  },
  {
   "cell_type": "code",
   "execution_count": null,
   "metadata": {},
   "outputs": [
    {
     "name": "stdout",
     "output_type": "stream",
     "text": [
      "-101.0\n"
     ]
    }
   ],
   "source": [
    "print(min([min(row)for row in cooperative_game.reward_fn_sa]))"
   ]
  },
  {
   "cell_type": "code",
   "execution_count": null,
   "metadata": {},
   "outputs": [
    {
     "data": {
      "text/plain": [
       "36"
      ]
     },
     "execution_count": 4,
     "metadata": {},
     "output_type": "execute_result"
    }
   ],
   "source": [
    "len(cooperative_game.joint_actions)"
   ]
  },
  {
   "cell_type": "code",
   "execution_count": null,
   "metadata": {},
   "outputs": [],
   "source": [
    "import random\n",
    "def follower_stackelberg_reward():\n",
    "    # set fixed seed\n",
    "    seed_value = 42\n",
    "    random.seed(seed_value)\n",
    "\n",
    "    #initialize rewards\n",
    "    stackelberg_follower_reward = np.zeros(cooperative_game.reward_fn_sa.shape)\n",
    "\n",
    "    # set min and max range of random number\n",
    "    min = min([min(row)for row in cooperative_game.reward_fn_sa])\n",
    "    max = max([max(row) for row in cooperative_game.reward_fn_sa])\n",
    "\n",
    "    # Generate five random integers between 1 and 10\n",
    "    for joint_action in range(5):\n",
    "        for state in range(2):\n",
    "            stackelberg_follower_reward[joint_action][state]=random.randint(min, max)\n"
   ]
  },
  {
   "cell_type": "code",
   "execution_count": null,
   "metadata": {},
   "outputs": [
    {
     "data": {
      "text/plain": [
       "('listen', 'listen')"
      ]
     },
     "execution_count": 14,
     "metadata": {},
     "output_type": "execute_result"
    }
   ],
   "source": [
    "competitive_game.joint_actions[0]"
   ]
  },
  {
   "cell_type": "code",
   "execution_count": null,
   "metadata": {},
   "outputs": [
    {
     "data": {
      "text/plain": [
       "3"
      ]
     },
     "execution_count": 62,
     "metadata": {},
     "output_type": "execute_result"
    }
   ],
   "source": [
    "new = competitive_game.observation_fn.reshape((competitive_game.num_joint_actions,competitive_game.num_joint_observations,len(competitive_game.states)))\n",
    "a = np.array([[[2,3],[4,5]],\n",
    "            [[6,7],[8,9]]])\n",
    "flipped_array = np.transpose(a, axes=(0,2,1))\n",
    "flipped_array[0][1][0]"
   ]
  },
  {
   "cell_type": "code",
   "execution_count": null,
   "metadata": {},
   "outputs": [
    {
     "data": {
      "text/plain": [
       "5"
      ]
     },
     "execution_count": 58,
     "metadata": {},
     "output_type": "execute_result"
    }
   ],
   "source": [
    "a[0][1][1]"
   ]
  },
  {
   "cell_type": "code",
   "execution_count": null,
   "metadata": {},
   "outputs": [
    {
     "data": {
      "text/plain": [
       "array([[   0.,    0.],\n",
       "       [   0.,    0.],\n",
       "       [-101.,    9.],\n",
       "       [   0.,    0.],\n",
       "       [   0.,    0.],\n",
       "       [   0.,    0.],\n",
       "       [   0.,    0.],\n",
       "       [   0.,    0.],\n",
       "       [   0.,    0.]])"
      ]
     },
     "execution_count": 17,
     "metadata": {},
     "output_type": "execute_result"
    }
   ],
   "source": [
    "a = np.zeros((cooperative_game.num_joint_actions,len(cooperative_game.states)))\n",
    "a[2] += cooperative_game.reward_fn_sa[3]\n",
    "a"
   ]
  },
  {
   "cell_type": "code",
   "execution_count": null,
   "metadata": {},
   "outputs": [
    {
     "data": {
      "text/plain": [
       "array([[  -2.,   -2.],\n",
       "       [-101.,    9.],\n",
       "       [   9., -101.],\n",
       "       [-101.,    9.],\n",
       "       [ -50.,   20.],\n",
       "       [-100., -100.],\n",
       "       [   9., -101.],\n",
       "       [-100., -100.],\n",
       "       [  20.,  -50.]])"
      ]
     },
     "execution_count": 18,
     "metadata": {},
     "output_type": "execute_result"
    }
   ],
   "source": [
    "cooperative_game.reward_fn_sa"
   ]
  },
  {
   "cell_type": "code",
   "execution_count": null,
   "metadata": {},
   "outputs": [
    {
     "data": {
      "text/plain": [
       "0.0"
      ]
     },
     "execution_count": 19,
     "metadata": {},
     "output_type": "execute_result"
    }
   ],
   "source": [
    "np.zeros((2,9,4))[0][2][2]"
   ]
  }
 ],
 "metadata": {
  "kernelspec": {
   "display_name": "tensorflow",
   "language": "python",
   "name": "python3"
  },
  "language_info": {
   "codemirror_mode": {
    "name": "ipython",
    "version": 3
   },
   "file_extension": ".py",
   "mimetype": "text/x-python",
   "name": "python",
   "nbconvert_exporter": "python",
   "pygments_lexer": "ipython3",
   "version": "3.10.8"
  }
 },
 "nbformat": 4,
 "nbformat_minor": 2
}
