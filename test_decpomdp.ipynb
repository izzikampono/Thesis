{
 "cells": [
  {
   "cell_type": "code",
   "execution_count": 10,
   "metadata": {},
   "outputs": [
    {
     "ename": "ModuleNotFoundError",
     "evalue": "No module named 'docplex.cp.context'",
     "output_type": "error",
     "traceback": [
      "\u001b[0;31m---------------------------------------------------------------------------\u001b[0m",
      "\u001b[0;31mModuleNotFoundError\u001b[0m                       Traceback (most recent call last)",
      "Cell \u001b[0;32mIn[10], line 6\u001b[0m\n\u001b[1;32m      4\u001b[0m \u001b[38;5;28;01mfrom\u001b[39;00m \u001b[38;5;21;01mdocplex\u001b[39;00m\u001b[38;5;21;01m.\u001b[39;00m\u001b[38;5;21;01mcp\u001b[39;00m\u001b[38;5;21;01m.\u001b[39;00m\u001b[38;5;21;01mconfig\u001b[39;00m \u001b[38;5;28;01mimport\u001b[39;00m context\n\u001b[1;32m      5\u001b[0m \u001b[38;5;28;01mfrom\u001b[39;00m \u001b[38;5;21;01mdocplex\u001b[39;00m\u001b[38;5;21;01m.\u001b[39;00m\u001b[38;5;21;01mmp\u001b[39;00m\u001b[38;5;21;01m.\u001b[39;00m\u001b[38;5;21;01mmodel\u001b[39;00m \u001b[38;5;28;01mimport\u001b[39;00m Model\n\u001b[0;32m----> 6\u001b[0m \u001b[38;5;28;01mfrom\u001b[39;00m \u001b[38;5;21;01mdocplex\u001b[39;00m\u001b[38;5;21;01m.\u001b[39;00m\u001b[38;5;21;01mcp\u001b[39;00m\u001b[38;5;21;01m.\u001b[39;00m\u001b[38;5;21;01mcontext\u001b[39;00m \u001b[38;5;28;01mimport\u001b[39;00m Context \u001b[38;5;28;01mas\u001b[39;00m C\n",
      "\u001b[0;31mModuleNotFoundError\u001b[0m: No module named 'docplex.cp.context'"
     ]
    }
   ],
   "source": [
    "import numpy as np\n",
    "import pandas as pd\n",
    "import random \n",
    "from docplex.cp.config import context\n",
    "from docplex.mp.model import Model\n",
    "from docplex.mp.context import Context as C\n"
   ]
  },
  {
   "cell_type": "code",
   "execution_count": 6,
   "metadata": {},
   "outputs": [
    {
     "data": {
      "text/plain": [
       "{'log_output': False,\n",
       " 'max_threads': None,\n",
       " 'auto_publish': {'solve_details': False,\n",
       "  'result_output': None,\n",
       "  'kpis_output': None,\n",
       "  'kpis_output_field_name': None,\n",
       "  'kpis_output_field_value': None,\n",
       "  'relaxations_output': None,\n",
       "  'conflicts_output': None},\n",
       " 'kpi_reporting': {'filter_level': <ProgressClock.Gap: 7>}}"
      ]
     },
     "execution_count": 6,
     "metadata": {},
     "output_type": "execute_result"
    }
   ],
   "source": [
    "C().solver"
   ]
  },
  {
   "cell_type": "code",
   "execution_count": null,
   "metadata": {},
   "outputs": [],
   "source": [
    "from decpomdp import DecPOMDP\n",
    "horizon = 5\n",
    "cooperative_game = DecPOMDP(\"dectiger\",1 , horizon )\n",
    "competitive_game = DecPOMDP(\"dectiger_competitive\",2,  horizon = horizon)\n",
    "\n"
   ]
  },
  {
   "cell_type": "code",
   "execution_count": null,
   "metadata": {},
   "outputs": [
    {
     "name": "stdout",
     "output_type": "stream",
     "text": [
      "-101.0\n"
     ]
    }
   ],
   "source": [
    "print(min([min(row)for row in cooperative_game.reward_fn_sa]))"
   ]
  },
  {
   "cell_type": "code",
   "execution_count": null,
   "metadata": {},
   "outputs": [
    {
     "data": {
      "text/plain": [
       "[('listen', 'listen'),\n",
       " ('listen', 'open-left'),\n",
       " ('listen', 'open-right'),\n",
       " ('open-left', 'listen'),\n",
       " ('open-left', 'open-left'),\n",
       " ('open-left', 'open-right'),\n",
       " ('open-right', 'listen'),\n",
       " ('open-right', 'open-left'),\n",
       " ('open-right', 'open-right')]"
      ]
     },
     "execution_count": 13,
     "metadata": {},
     "output_type": "execute_result"
    }
   ],
   "source": [
    "cooperative_game.joint_actions"
   ]
  },
  {
   "cell_type": "code",
   "execution_count": null,
   "metadata": {},
   "outputs": [],
   "source": [
    "import random\n",
    "def follower_stackelberg_reward():\n",
    "    # set fixed seed\n",
    "    seed_value = 42\n",
    "    random.seed(seed_value)\n",
    "\n",
    "    #initialize rewards\n",
    "    stackelberg_follower_reward = np.zeros(cooperative_game.reward_fn_sa.shape)\n",
    "\n",
    "    # set min and max range of random number\n",
    "    min = min([min(row)for row in cooperative_game.reward_fn_sa])\n",
    "    max = max([max(row) for row in cooperative_game.reward_fn_sa])\n",
    "\n",
    "    # Generate five random integers between 1 and 10\n",
    "    for joint_action in range(5):\n",
    "        for state in range(2):\n",
    "            stackelberg_follower_reward[joint_action][state]=random.randint(min, max)\n"
   ]
  },
  {
   "cell_type": "code",
   "execution_count": null,
   "metadata": {},
   "outputs": [
    {
     "data": {
      "text/plain": [
       "('listen', 'listen')"
      ]
     },
     "execution_count": 5,
     "metadata": {},
     "output_type": "execute_result"
    }
   ],
   "source": [
    "competitive_game.joint_actions[0]"
   ]
  },
  {
   "cell_type": "code",
   "execution_count": null,
   "metadata": {},
   "outputs": [
    {
     "data": {
      "text/plain": [
       "('listen', 'listen')"
      ]
     },
     "execution_count": 6,
     "metadata": {},
     "output_type": "execute_result"
    }
   ],
   "source": [
    "competitive_game.joint_actions[0]\n"
   ]
  },
  {
   "cell_type": "code",
   "execution_count": null,
   "metadata": {},
   "outputs": [
    {
     "data": {
      "text/plain": [
       "array([-2., -2.])"
      ]
     },
     "execution_count": 7,
     "metadata": {},
     "output_type": "execute_result"
    }
   ],
   "source": [
    "cooperative_game.reward_fn_sa[0]"
   ]
  },
  {
   "cell_type": "code",
   "execution_count": null,
   "metadata": {},
   "outputs": [
    {
     "data": {
      "text/plain": [
       "array([[   0.,    0.],\n",
       "       [   0.,    0.],\n",
       "       [-101.,    9.],\n",
       "       [   0.,    0.],\n",
       "       [   0.,    0.],\n",
       "       [   0.,    0.],\n",
       "       [   0.,    0.],\n",
       "       [   0.,    0.],\n",
       "       [   0.,    0.]])"
      ]
     },
     "execution_count": 43,
     "metadata": {},
     "output_type": "execute_result"
    }
   ],
   "source": [
    "a = np.zeros((cooperative_game.num_joint_actions,len(cooperative_game.states)))\n",
    "a[2] += cooperative_game.reward_fn_sa[3]\n",
    "a"
   ]
  },
  {
   "cell_type": "code",
   "execution_count": null,
   "metadata": {},
   "outputs": [
    {
     "data": {
      "text/plain": [
       "array([[  -2.,   -2.],\n",
       "       [-101.,    9.],\n",
       "       [   9., -101.],\n",
       "       [-101.,    9.],\n",
       "       [ -50.,   20.],\n",
       "       [-100., -100.],\n",
       "       [   9., -101.],\n",
       "       [-100., -100.],\n",
       "       [  20.,  -50.]])"
      ]
     },
     "execution_count": 50,
     "metadata": {},
     "output_type": "execute_result"
    }
   ],
   "source": [
    "cooperative_game.reward_fn_sa"
   ]
  },
  {
   "cell_type": "code",
   "execution_count": null,
   "metadata": {},
   "outputs": [
    {
     "data": {
      "text/plain": [
       "0.0"
      ]
     },
     "execution_count": 35,
     "metadata": {},
     "output_type": "execute_result"
    }
   ],
   "source": [
    "np.zeros((2,9,4))[0][2][2]"
   ]
  }
 ],
 "metadata": {
  "kernelspec": {
   "display_name": "tensorflow",
   "language": "python",
   "name": "python3"
  },
  "language_info": {
   "codemirror_mode": {
    "name": "ipython",
    "version": 3
   },
   "file_extension": ".py",
   "mimetype": "text/x-python",
   "name": "python",
   "nbconvert_exporter": "python",
   "pygments_lexer": "ipython3",
   "version": "3.10.8"
  }
 },
 "nbformat": 4,
 "nbformat_minor": 2
}
