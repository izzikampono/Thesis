{
 "cells": [
  {
   "cell_type": "code",
   "execution_count": 9,
   "metadata": {},
   "outputs": [],
   "source": [
    "import numpy as np\n",
    "import pandas as pd\n",
    "import random \n",
    "from decpomdp import DecPOMDP\n",
    "\n"
   ]
  },
  {
   "cell_type": "code",
   "execution_count": 22,
   "metadata": {},
   "outputs": [],
   "source": [
    "games = {'dectiger','boxPushing','relay4','longFireFight',\n",
    "        'prisoner','GridSmall','2generals'\n",
    "        }"
   ]
  },
  {
   "cell_type": "code",
   "execution_count": 30,
   "metadata": {},
   "outputs": [],
   "source": [
    "from decpomdp import DecPOMDP\n",
    "horizon = 5\n",
    "cooperative_game = DecPOMDP('GridSmall',1 , 1)\n",
    "\n"
   ]
  },
  {
   "cell_type": "code",
   "execution_count": 31,
   "metadata": {},
   "outputs": [
    {
     "name": "stdout",
     "output_type": "stream",
     "text": [
      "GAME DESCRIPTION :\n",
      "game size :\n",
      "\t|S| = 16\n",
      "\t|Z| = 4\n",
      "\t|U| = 25 with |U_i| = 5\n",
      "intiial_belief : [0. 0. 0. 0. 0. 0. 1. 0. 0. 0. 0. 0. 0. 0. 0. 0.]\n"
     ]
    }
   ],
   "source": [
    "print(\"GAME DESCRIPTION :\")\n",
    "print(f\"game size :\\n\\t|S| = {len(cooperative_game.states)}\")\n",
    "print(f\"\\t|Z| = {cooperative_game.num_joint_observations}\\n\\t|U| = {cooperative_game.num_joint_actions} with |U_i| = {cooperative_game.num_actions[0]}\")\n",
    "print(f\"intiial_belief : {cooperative_game.b0}\")\n",
    "\n"
   ]
  },
  {
   "cell_type": "code",
   "execution_count": 12,
   "metadata": {},
   "outputs": [
    {
     "name": "stdout",
     "output_type": "stream",
     "text": [
      "-5.997599999999999\n"
     ]
    }
   ],
   "source": [
    "print(min([min(row)for row in cooperative_game.reward_fn_sa]))"
   ]
  },
  {
   "cell_type": "code",
   "execution_count": 13,
   "metadata": {},
   "outputs": [
    {
     "data": {
      "text/plain": [
       "4"
      ]
     },
     "execution_count": 13,
     "metadata": {},
     "output_type": "execute_result"
    }
   ],
   "source": [
    "len(cooperative_game.joint_actions)"
   ]
  },
  {
   "cell_type": "code",
   "execution_count": 14,
   "metadata": {},
   "outputs": [],
   "source": [
    "import random\n",
    "def follower_stackelberg_reward():\n",
    "    # set fixed seed\n",
    "    seed_value = 42\n",
    "    random.seed(seed_value)\n",
    "\n",
    "    #initialize rewards\n",
    "    stackelberg_follower_reward = np.zeros(cooperative_game.reward_fn_sa.shape)\n",
    "\n",
    "    # set min and max range of random number\n",
    "    min = min([min(row)for row in cooperative_game.reward_fn_sa])\n",
    "    max = max([max(row) for row in cooperative_game.reward_fn_sa])\n",
    "\n",
    "    # Generate five random integers between 1 and 10\n",
    "    for joint_action in range(5):\n",
    "        for state in range(2):\n",
    "            stackelberg_follower_reward[joint_action][state]=random.randint(min, max)\n"
   ]
  },
  {
   "cell_type": "code",
   "execution_count": 15,
   "metadata": {},
   "outputs": [
    {
     "ename": "NameError",
     "evalue": "name 'competitive_game' is not defined",
     "output_type": "error",
     "traceback": [
      "\u001b[0;31m---------------------------------------------------------------------------\u001b[0m",
      "\u001b[0;31mNameError\u001b[0m                                 Traceback (most recent call last)",
      "Cell \u001b[0;32mIn[15], line 1\u001b[0m\n\u001b[0;32m----> 1\u001b[0m \u001b[43mcompetitive_game\u001b[49m\u001b[38;5;241m.\u001b[39mjoint_actions[\u001b[38;5;241m0\u001b[39m]\n",
      "\u001b[0;31mNameError\u001b[0m: name 'competitive_game' is not defined"
     ]
    }
   ],
   "source": [
    "competitive_game.joint_actions[0]"
   ]
  },
  {
   "cell_type": "code",
   "execution_count": null,
   "metadata": {},
   "outputs": [
    {
     "data": {
      "text/plain": [
       "3"
      ]
     },
     "execution_count": 62,
     "metadata": {},
     "output_type": "execute_result"
    }
   ],
   "source": [
    "new = competitive_game.observation_fn.reshape((competitive_game.num_joint_actions,competitive_game.num_joint_observations,len(competitive_game.states)))\n",
    "a = np.array([[[2,3],[4,5]],\n",
    "            [[6,7],[8,9]]])\n",
    "flipped_array = np.transpose(a, axes=(0,2,1))\n",
    "flipped_array[0][1][0]"
   ]
  },
  {
   "cell_type": "code",
   "execution_count": null,
   "metadata": {},
   "outputs": [
    {
     "data": {
      "text/plain": [
       "5"
      ]
     },
     "execution_count": 58,
     "metadata": {},
     "output_type": "execute_result"
    }
   ],
   "source": [
    "a[0][1][1]"
   ]
  },
  {
   "cell_type": "code",
   "execution_count": null,
   "metadata": {},
   "outputs": [
    {
     "data": {
      "text/plain": [
       "array([[   0.,    0.],\n",
       "       [   0.,    0.],\n",
       "       [-101.,    9.],\n",
       "       [   0.,    0.],\n",
       "       [   0.,    0.],\n",
       "       [   0.,    0.],\n",
       "       [   0.,    0.],\n",
       "       [   0.,    0.],\n",
       "       [   0.,    0.]])"
      ]
     },
     "execution_count": 17,
     "metadata": {},
     "output_type": "execute_result"
    }
   ],
   "source": [
    "a = np.zeros((cooperative_game.num_joint_actions,len(cooperative_game.states)))\n",
    "a[2] += cooperative_game.reward_fn_sa[3]\n",
    "a"
   ]
  },
  {
   "cell_type": "code",
   "execution_count": 16,
   "metadata": {},
   "outputs": [
    {
     "data": {
      "text/plain": [
       "array([[-1.0000e-03, -9.9420e-01, -1.9942e+00, -1.0012e+00, -2.0120e+00,\n",
       "        -3.0088e+00, -2.0012e+00, -3.0088e+00, -4.0056e+00, -1.0072e+00,\n",
       "        -1.9972e+00, -2.9972e+00, -2.0132e+00, -3.0120e+00, -4.0088e+00,\n",
       "        -3.0100e+00, -4.0088e+00, -5.0056e+00, -2.0032e+00, -2.9932e+00,\n",
       "        -3.9932e+00, -3.0052e+00, -4.0040e+00, -5.0008e+00, -4.0020e+00,\n",
       "        -5.0008e+00, -5.9976e+00],\n",
       "       [-1.0000e-03, -9.9800e-01, -1.9980e+00, -1.0104e+00, -2.0132e+00,\n",
       "        -3.0100e+00, -2.0064e+00, -3.0052e+00, -4.0020e+00, -9.9800e-01,\n",
       "        -1.9880e+00, -2.9880e+00, -2.0132e+00, -3.0120e+00, -4.0088e+00,\n",
       "        -3.0052e+00, -4.0040e+00, -5.0008e+00, -1.9980e+00, -2.9880e+00,\n",
       "        -3.9880e+00, -3.0100e+00, -4.0088e+00, -5.0056e+00, -4.0020e+00,\n",
       "        -5.0008e+00, -5.9976e+00],\n",
       "       [-2.0000e-03, -1.0050e+00, -2.0010e+00, -9.9600e-01, -1.9960e+00,\n",
       "        -2.9880e+00, -1.9960e+00, -2.9960e+00, -3.9880e+00, -1.0050e+00,\n",
       "        -2.0080e+00, -3.0040e+00, -1.9960e+00, -2.9960e+00, -3.9880e+00,\n",
       "        -2.9960e+00, -3.9960e+00, -4.9880e+00, -2.0010e+00, -3.0040e+00,\n",
       "        -4.0000e+00, -2.9880e+00, -3.9880e+00, -4.9800e+00, -3.9880e+00,\n",
       "        -4.9880e+00, -5.9800e+00],\n",
       "       [-1.0000e-03, -1.0072e+00, -2.0032e+00, -1.0012e+00, -2.0132e+00,\n",
       "        -3.0052e+00, -2.0012e+00, -3.0100e+00, -4.0020e+00, -9.9420e-01,\n",
       "        -1.9972e+00, -2.9932e+00, -2.0120e+00, -3.0120e+00, -4.0040e+00,\n",
       "        -3.0088e+00, -4.0088e+00, -5.0008e+00, -1.9942e+00, -2.9972e+00,\n",
       "        -3.9932e+00, -3.0088e+00, -4.0088e+00, -5.0008e+00, -4.0056e+00,\n",
       "        -5.0056e+00, -5.9976e+00]])"
      ]
     },
     "execution_count": 16,
     "metadata": {},
     "output_type": "execute_result"
    }
   ],
   "source": [
    "cooperative_game.reward_fn_sa"
   ]
  },
  {
   "cell_type": "code",
   "execution_count": null,
   "metadata": {},
   "outputs": [
    {
     "data": {
      "text/plain": [
       "0.0"
      ]
     },
     "execution_count": 19,
     "metadata": {},
     "output_type": "execute_result"
    }
   ],
   "source": [
    "np.zeros((2,9,4))[0][2][2]"
   ]
  }
 ],
 "metadata": {
  "kernelspec": {
   "display_name": "tensorflow",
   "language": "python",
   "name": "python3"
  },
  "language_info": {
   "codemirror_mode": {
    "name": "ipython",
    "version": 3
   },
   "file_extension": ".py",
   "mimetype": "text/x-python",
   "name": "python",
   "nbconvert_exporter": "python",
   "pygments_lexer": "ipython3",
   "version": "3.10.8"
  }
 },
 "nbformat": 4,
 "nbformat_minor": 2
}
