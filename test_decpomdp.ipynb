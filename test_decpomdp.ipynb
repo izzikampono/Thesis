{
 "cells": [
  {
   "cell_type": "code",
   "execution_count": 9,
   "metadata": {},
   "outputs": [],
   "source": [
    "import numpy as np\n",
    "import pandas as pd\n",
    "import random \n",
    "from decpomdp import DecPOMDP\n",
    "\n"
   ]
  },
  {
   "cell_type": "code",
   "execution_count": null,
   "metadata": {},
   "outputs": [],
   "source": []
  },
  {
   "cell_type": "code",
   "execution_count": 10,
   "metadata": {},
   "outputs": [],
   "source": [
    "from decpomdp import DecPOMDP\n",
    "horizon = 5\n",
    "cooperative_game = DecPOMDP(\"dectiger\",1 , horizon )\n",
    "competitive_game = DecPOMDP(\"dectiger_competitive\",2,  horizon = horizon)\n",
    "\n"
   ]
  },
  {
   "cell_type": "code",
   "execution_count": 11,
   "metadata": {},
   "outputs": [
    {
     "name": "stdout",
     "output_type": "stream",
     "text": [
      "-101.0\n"
     ]
    }
   ],
   "source": [
    "print(min([min(row)for row in cooperative_game.reward_fn_sa]))"
   ]
  },
  {
   "cell_type": "code",
   "execution_count": 12,
   "metadata": {},
   "outputs": [
    {
     "data": {
      "text/plain": [
       "[('listen', 'listen'),\n",
       " ('listen', 'open-left'),\n",
       " ('listen', 'open-right'),\n",
       " ('open-left', 'listen'),\n",
       " ('open-left', 'open-left'),\n",
       " ('open-left', 'open-right'),\n",
       " ('open-right', 'listen'),\n",
       " ('open-right', 'open-left'),\n",
       " ('open-right', 'open-right')]"
      ]
     },
     "execution_count": 12,
     "metadata": {},
     "output_type": "execute_result"
    }
   ],
   "source": [
    "cooperative_game.joint_actions"
   ]
  },
  {
   "cell_type": "code",
   "execution_count": 13,
   "metadata": {},
   "outputs": [],
   "source": [
    "import random\n",
    "def follower_stackelberg_reward():\n",
    "    # set fixed seed\n",
    "    seed_value = 42\n",
    "    random.seed(seed_value)\n",
    "\n",
    "    #initialize rewards\n",
    "    stackelberg_follower_reward = np.zeros(cooperative_game.reward_fn_sa.shape)\n",
    "\n",
    "    # set min and max range of random number\n",
    "    min = min([min(row)for row in cooperative_game.reward_fn_sa])\n",
    "    max = max([max(row) for row in cooperative_game.reward_fn_sa])\n",
    "\n",
    "    # Generate five random integers between 1 and 10\n",
    "    for joint_action in range(5):\n",
    "        for state in range(2):\n",
    "            stackelberg_follower_reward[joint_action][state]=random.randint(min, max)\n"
   ]
  },
  {
   "cell_type": "code",
   "execution_count": 14,
   "metadata": {},
   "outputs": [
    {
     "data": {
      "text/plain": [
       "('listen', 'listen')"
      ]
     },
     "execution_count": 14,
     "metadata": {},
     "output_type": "execute_result"
    }
   ],
   "source": [
    "competitive_game.joint_actions[0]"
   ]
  },
  {
   "cell_type": "code",
   "execution_count": 44,
   "metadata": {},
   "outputs": [
    {
     "data": {
      "text/plain": [
       "array([[5, 4],\n",
       "       [3, 2]])"
      ]
     },
     "execution_count": 44,
     "metadata": {},
     "output_type": "execute_result"
    }
   ],
   "source": [
    "new = competitive_game.observation_fn.reshape((competitive_game.num_joint_actions,competitive_game.num_joint_observations,len(competitive_game.states)))\n",
    "a = np.array([[[2,3],[4,5]],[[6,7],[8,9]]])\n",
    "flipped_array = np.flip(a, axis=(1,2))\n",
    "flipped_array[0]"
   ]
  },
  {
   "cell_type": "code",
   "execution_count": 46,
   "metadata": {},
   "outputs": [
    {
     "data": {
      "text/plain": [
       "array([[2, 3],\n",
       "       [4, 5]])"
      ]
     },
     "execution_count": 46,
     "metadata": {},
     "output_type": "execute_result"
    }
   ],
   "source": [
    "a[0]"
   ]
  },
  {
   "cell_type": "code",
   "execution_count": 17,
   "metadata": {},
   "outputs": [
    {
     "data": {
      "text/plain": [
       "array([[   0.,    0.],\n",
       "       [   0.,    0.],\n",
       "       [-101.,    9.],\n",
       "       [   0.,    0.],\n",
       "       [   0.,    0.],\n",
       "       [   0.,    0.],\n",
       "       [   0.,    0.],\n",
       "       [   0.,    0.],\n",
       "       [   0.,    0.]])"
      ]
     },
     "execution_count": 17,
     "metadata": {},
     "output_type": "execute_result"
    }
   ],
   "source": [
    "a = np.zeros((cooperative_game.num_joint_actions,len(cooperative_game.states)))\n",
    "a[2] += cooperative_game.reward_fn_sa[3]\n",
    "a"
   ]
  },
  {
   "cell_type": "code",
   "execution_count": 18,
   "metadata": {},
   "outputs": [
    {
     "data": {
      "text/plain": [
       "array([[  -2.,   -2.],\n",
       "       [-101.,    9.],\n",
       "       [   9., -101.],\n",
       "       [-101.,    9.],\n",
       "       [ -50.,   20.],\n",
       "       [-100., -100.],\n",
       "       [   9., -101.],\n",
       "       [-100., -100.],\n",
       "       [  20.,  -50.]])"
      ]
     },
     "execution_count": 18,
     "metadata": {},
     "output_type": "execute_result"
    }
   ],
   "source": [
    "cooperative_game.reward_fn_sa"
   ]
  },
  {
   "cell_type": "code",
   "execution_count": 19,
   "metadata": {},
   "outputs": [
    {
     "data": {
      "text/plain": [
       "0.0"
      ]
     },
     "execution_count": 19,
     "metadata": {},
     "output_type": "execute_result"
    }
   ],
   "source": [
    "np.zeros((2,9,4))[0][2][2]"
   ]
  }
 ],
 "metadata": {
  "kernelspec": {
   "display_name": "tensorflow",
   "language": "python",
   "name": "python3"
  },
  "language_info": {
   "codemirror_mode": {
    "name": "ipython",
    "version": 3
   },
   "file_extension": ".py",
   "mimetype": "text/x-python",
   "name": "python",
   "nbconvert_exporter": "python",
   "pygments_lexer": "ipython3",
   "version": "3.10.8"
  }
 },
 "nbformat": 4,
 "nbformat_minor": 2
}
